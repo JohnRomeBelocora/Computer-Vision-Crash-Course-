{
  "cells": [
    {
      "cell_type": "markdown",
      "metadata": {
        "id": "Hj9Q5rZAFAlM"
      },
      "source": [
        "Technological Institute of the Philippines | Quezon City - Computer Engineering\n",
        "--- | ---\n",
        "Course Code: | CPE 313\n",
        "Code Title: | Advanced Machine Learning and Deep Learning\n",
        "2nd Semester | SY 2024-2025\n",
        "<hr> | <hr>\n",
        "<u>**Discussion 3.1** | **Performing Face Recognition**\n",
        "**Name** | Belocora, John Rome\n",
        "**Section** | CPE32S3\n",
        "**Date Performed**: | 02/20/2025\n",
        "**Date Submitted**: | 02/20/2025\n",
        "**Instructor**: | Engr. Roman M. Richard\n",
        "\n",
        "<hr>"
      ]
    },
    {
      "cell_type": "markdown",
      "metadata": {
        "id": "ElMxAUPJGYLw"
      },
      "source": [
        "## 1. Objectives"
      ]
    },
    {
      "cell_type": "markdown",
      "metadata": {
        "id": "dr0bUEs1nxE0"
      },
      "source": [
        "This activity aims to enable students to perform data preparation and face recognition on their own generated dataset."
      ]
    },
    {
      "cell_type": "markdown",
      "metadata": {
        "id": "do-8nSpXFpyd"
      },
      "source": [
        "## 2. Intended Learning Outcomes (ILOs)\n",
        "After this activity, the students should be able to:\n",
        "* Utilize data preparation techniques for images.\n",
        "* Perform Face Recognition using multiple algorithms.\n",
        "* Evaluate the performance of different algorithms."
      ]
    },
    {
      "cell_type": "markdown",
      "metadata": {
        "id": "X-RNZovNGV9k"
      },
      "source": [
        "## 3. Procedures and Outputs"
      ]
    },
    {
      "cell_type": "markdown",
      "metadata": {
        "id": "lBQh8Eyf1EHC"
      },
      "source": [
        "### Preparing the training data"
      ]
    },
    {
      "cell_type": "markdown",
      "metadata": {
        "id": "hpAAiS_V1Jfy"
      },
      "source": [
        "Now that we have our data, we need to load these sample pictures into our face recognition algorithms. All face recognition algorithms take two parameters in their `train()` method: an array of images and an array of labels. What do these labels represent? They are the IDs of a certain individual/face so that when face recognition is performed, we not only know the person was recognized but also who—among the many people available in our database—the person is.\n",
        "\n",
        "To do that, we need to create a comma-separated value (CSV) file, which will contain the path to a sample picture followed by the ID of that person."
      ]
    },
    {
      "cell_type": "markdown",
      "metadata": {
        "id": "sWqIq9Sz1Svi"
      },
      "source": [
        "**Include a Screenshot of Your Dataset Here**"
      ]
    },
    {
      "cell_type": "markdown",
      "metadata": {
        "id": "1SiR2yJQ1W7B"
      },
      "source": [
        "---"
      ]
    },
    {
      "cell_type": "markdown",
      "metadata": {
        "id": "TPA3SGHN1YdC"
      },
      "source": [
        "### Loading the data and recognizing faces"
      ]
    },
    {
      "cell_type": "markdown",
      "metadata": {
        "id": "Q07mfdMq1b2J"
      },
      "source": [
        "Next up, we need to load these two resources (the array of images and CSV file) into the face recognition algorithm, so it can be trained to recognize our face. To do this, we build a function that reads the CSV file and—for each line of the file—loads the image at the corresponding path into the images array and the ID into the labels array."
      ]
    },
    {
      "cell_type": "code",
      "execution_count": 1,
      "metadata": {
        "id": "c4TmUw_BEeUc"
      },
      "outputs": [
        {
          "name": "stdout",
          "output_type": "stream",
          "text": [
            "[[array([[198, 200, 201, ..., 130, 140, 147],\n",
            "       [197, 199, 200, ..., 125, 118, 113],\n",
            "       [197, 198, 199, ..., 125, 126, 126],\n",
            "       ...,\n",
            "       [145, 144, 135, ...,  75,  76,  77],\n",
            "       [138, 137, 126, ...,  76,  87,  96],\n",
            "       [134, 139, 129, ...,  67,  67,  67]],\n",
            "      shape=(720, 1280), dtype=uint8), array([[200, 198, 199, ..., 127, 127, 127],\n",
            "       [200, 198, 198, ..., 126, 126, 126],\n",
            "       [200, 199, 198, ..., 126, 125, 125],\n",
            "       ...,\n",
            "       [138, 140, 141, ...,  71,  75,  74],\n",
            "       [136, 142, 145, ...,  72,  75,  74],\n",
            "       [135, 138, 139, ...,  73,  76,  73]],\n",
            "      shape=(720, 1280), dtype=uint8), array([[225, 225, 226, ..., 230, 247, 255],\n",
            "       [219, 220, 222, ..., 227, 236, 242],\n",
            "       [214, 215, 218, ..., 225, 223, 222],\n",
            "       ...,\n",
            "       [ 43,  27,   2, ..., 158, 168, 174],\n",
            "       [ 42,  27,   2, ..., 157, 166, 172],\n",
            "       [ 41,  26,   2, ..., 156, 165, 171]],\n",
            "      shape=(2048, 1536), dtype=uint8), array([[130, 123,  95, ..., 218, 220, 224],\n",
            "       [130, 122,  94, ..., 218, 221, 226],\n",
            "       [129, 121,  93, ..., 219, 223, 227],\n",
            "       ...,\n",
            "       [192, 192, 192, ..., 139, 141, 142],\n",
            "       [199, 199, 197, ..., 139, 141, 142],\n",
            "       [207, 205, 202, ..., 139, 141, 142]],\n",
            "      shape=(2048, 1536), dtype=uint8)], [0, 0, 1, 1]]\n"
          ]
        }
      ],
      "source": [
        "import numpy as np\n",
        "import os\n",
        "import errno\n",
        "import sys\n",
        "import cv2\n",
        "\n",
        "def read_images(path, sz=None):\n",
        "  c = 0\n",
        "  X, y = [], []\n",
        "\n",
        "  for dirname, dirnames, filenames in os.walk(path):\n",
        "    for subdirname in dirnames:\n",
        "      subject_path = os.path.join(dirname, subdirname)\n",
        "      for filename in os.listdir(subject_path):\n",
        "        try:\n",
        "          if(filename == \".directory\"):\n",
        "            continue\n",
        "          filepath = os.path.join(subject_path, filename)\n",
        "          im = cv2.imread(os.path.join(subject_path, filename), cv2.IMREAD_GRAYSCALE)\n",
        "\n",
        "          # Resize the images to the prescribed size\n",
        "          if (sz is not None):\n",
        "            im = cv2.resize(im, (200,200))\n",
        "\n",
        "          X.append(np.asarray(im, dtype=np.uint8))\n",
        "          y.append(c)\n",
        "\n",
        "        except IOError as e:\n",
        "          print(f\"I/O Error({e.errno}): {e.strerror}\")\n",
        "        except:\n",
        "          print(\"Unexpected error:\", sys.exc_info()[0])\n",
        "          raise\n",
        "      c = c+1\n",
        "  return [X, y]\n",
        "\n",
        "dataset = read_images(r\"C:\\Users\\John Rome Belocora\\Downloads\\act 7\\dataset\")\n",
        "print(dataset)"
      ]
    },
    {
      "cell_type": "markdown",
      "metadata": {
        "id": "aWNBxCbO2oO-"
      },
      "source": [
        "**Question: Run the function above on your generated dataset. Provide an analysis and note all the challenges you have encountered running this code.**"
      ]
    },
    {
      "cell_type": "markdown",
      "metadata": {
        "id": "SJ5IMZcC3wZt"
      },
      "source": [
        "---"
      ]
    },
    {
      "cell_type": "markdown",
      "metadata": {},
      "source": [
        "The script effectively reads and labels images but can be improved by handling empty images, optimizing performance, and providing clearer error messages. It serves as a strong foundation for facial recognition or image classification tasks. The challenges that I faced was fixing the dataset file directory and compiling the pictures on it."
      ]
    },
    {
      "cell_type": "markdown",
      "metadata": {
        "id": "DlLWfyvY3xm0"
      },
      "source": [
        "### Performing Face Recognition Algorithms"
      ]
    },
    {
      "cell_type": "markdown",
      "metadata": {
        "id": "FVF9dfTQ30pc"
      },
      "source": [
        "Here is a sample script for testing the Face Recognition Algorithm. In this section, we're going to follow the same process but with different algorithms for face recognitions, namely:\n",
        "- Eigenface Recognition\n",
        "- Fisherface Recognition\n",
        "- Local Binary Pattern Histograms (LBPH) Recognition"
      ]
    },
    {
      "cell_type": "code",
      "execution_count": null,
      "metadata": {
        "id": "cYQ19foI4Oe7"
      },
      "outputs": [],
      "source": [
        "import cv2\n",
        "import numpy as np\n",
        "import os\n",
        "import sys\n",
        "\n",
        "def read_images(path, sz=(200, 200)):\n",
        "    \"\"\"Reads images from dataset and resizes them.\"\"\"\n",
        "    X, y, label = [], [], 0\n",
        "    for subdir in filter(lambda d: os.path.isdir(os.path.join(path, d)), os.listdir(path)):\n",
        "        for filename in os.listdir(os.path.join(path, subdir)):\n",
        "            img = cv2.imread(os.path.join(path, subdir, filename), cv2.IMREAD_GRAYSCALE)\n",
        "            if img is not None:\n",
        "                X.append(cv2.resize(img, sz))\n",
        "                y.append(label)\n",
        "        label += 1\n",
        "    return np.array(X, dtype=np.uint8), np.array(y, dtype=np.int32)\n",
        "\n",
        "def face_rec():\n",
        "    names, dataset_path = ['Joms', 'Moms'], \"dataset\"\n",
        "    if not os.path.exists(dataset_path):\n",
        "        sys.exit(f\"Error: Dataset path '{dataset_path}' not found!\")\n",
        "\n",
        "    X, y = read_images(dataset_path)\n",
        "    if X.size == 0:\n",
        "        sys.exit(\"Error: No images found in dataset.\")\n",
        "\n",
        "    try:\n",
        "        model = cv2.face.EigenFaceRecognizer_create()\n",
        "        model.train(X, y)\n",
        "    except AttributeError:\n",
        "        sys.exit(\"Error: OpenCV does not support face recognition. Install 'opencv-contrib-python'.\")\n",
        "\n",
        "    face_cascade = cv2.CascadeClassifier(r\"C:\\Users\\John Rome Belocora\\Downloads\\haarcascade_frontalface_default.xml\")\n",
        "    camera = cv2.VideoCapture(0)\n",
        "    if not camera.isOpened():\n",
        "        sys.exit(\"Error: Could not access webcam.\")\n",
        "\n",
        "    while True:\n",
        "        ret, img = camera.read()\n",
        "        if not ret:\n",
        "            break\n",
        "\n",
        "        gray = cv2.cvtColor(img, cv2.COLOR_BGR2GRAY)\n",
        "        for (x, y, w, h) in face_cascade.detectMultiScale(gray, 1.3, 5):\n",
        "            roi = cv2.resize(gray[y:y+h, x:x+w], (200, 200))\n",
        "            label_index, confidence = model.predict(roi)\n",
        "\n",
        "            label = names[label_index] if label_index < len(names) and confidence < 5000 else \"Unknown\"\n",
        "            cv2.putText(img, f\"{label}, {confidence:.2f}\", (x, y - 10), cv2.FONT_HERSHEY_SIMPLEX, 0.8, (255, 0, 0), 2)\n",
        "            cv2.rectangle(img, (x, y), (x + w, y + h), (255, 0, 0), 2)\n",
        "\n",
        "        cv2.imshow(\"Face Recognition\", img)\n",
        "        if cv2.waitKey(1) & 0xFF == ord(\"q\"):\n",
        "            break\n",
        "\n",
        "    camera.release()\n",
        "    cv2.destroyAllWindows()\n",
        "\n",
        "if __name__ == \"__main__\":\n",
        "    face_rec()\n"
      ]
    },
    {
      "cell_type": "markdown",
      "metadata": {
        "id": "iChhyN_Y4OH7"
      },
      "source": [
        "**Question: Provide an analysis of the sample script for the process using the Eigenface Model. What is the sample code doing? Are you able to troubleshoot any problems encountered?**"
      ]
    },
    {
      "cell_type": "markdown",
      "metadata": {},
      "source": [
        "The Eigenface Trains the model Principal Component Analysis (PCA) to identify and recognize faces. Yes."
      ]
    },
    {
      "cell_type": "markdown",
      "metadata": {
        "id": "-dL7n-mc5JO6"
      },
      "source": [
        "---\n",
        "Perform the remaining face recognition techniques by using the same (or modified) process from the sample code:\n",
        "\n",
        "- `model = cv2.face.createFisherFaceRecognizer()`\n",
        "- `model = cv2.face.createLBPHFaceRecognizer()`"
      ]
    },
    {
      "cell_type": "markdown",
      "metadata": {
        "id": "gb6Zeh9S5Y1o"
      },
      "source": [
        "**Question: The `predict()` method returns a two-element array. Provide your analysis of the two returned values and their important ince this application.**"
      ]
    },
    {
      "cell_type": "markdown",
      "metadata": {},
      "source": [
        "## FisherFaceRecognizer"
      ]
    },
    {
      "cell_type": "code",
      "execution_count": null,
      "metadata": {},
      "outputs": [],
      "source": [
        "def read_images(path, sz=(200, 200)):\n",
        "    \"\"\"Reads images from dataset and resizes them.\"\"\"\n",
        "    X, y, label = [], [], 0\n",
        "    for subdir in filter(lambda d: os.path.isdir(os.path.join(path, d)), os.listdir(path)):\n",
        "        for filename in os.listdir(os.path.join(path, subdir)):\n",
        "            img = cv2.imread(os.path.join(path, subdir, filename), cv2.IMREAD_GRAYSCALE)\n",
        "            if img is not None:\n",
        "                X.append(cv2.resize(img, sz))\n",
        "                y.append(label)\n",
        "        label += 1\n",
        "    return np.array(X, dtype=np.uint8), np.array(y, dtype=np.int32)\n",
        "\n",
        "def face_rec():\n",
        "    names, dataset_path = ['Joms', 'Moms'], \"dataset\"\n",
        "    if not os.path.exists(dataset_path):\n",
        "        sys.exit(f\"Error: Dataset path '{dataset_path}' not found!\")\n",
        "\n",
        "    X, y = read_images(dataset_path)\n",
        "    if X.size == 0:\n",
        "        sys.exit(\"Error: No images found in dataset.\")\n",
        "\n",
        "    try:\n",
        "        model = cv2.face.FisherFaceRecognizer_create()\n",
        "        model.train(X, y)\n",
        "    except AttributeError:\n",
        "        sys.exit(\"Error: OpenCV does not support face recognition. Install 'opencv-contrib-python'.\")\n",
        "\n",
        "    face_cascade = cv2.CascadeClassifier(r\"C:\\Users\\John Rome Belocora\\Downloads\\haarcascade_frontalface_default.xml\")\n",
        "    camera = cv2.VideoCapture(0)\n",
        "    if not camera.isOpened():\n",
        "        sys.exit(\"Error: Could not access webcam.\")\n",
        "\n",
        "    while True:\n",
        "        ret, img = camera.read()\n",
        "        if not ret:\n",
        "            break\n",
        "\n",
        "        gray = cv2.cvtColor(img, cv2.COLOR_BGR2GRAY)\n",
        "        for (x, y, w, h) in face_cascade.detectMultiScale(gray, 1.3, 5):\n",
        "            roi = cv2.resize(gray[y:y+h, x:x+w], (200, 200))\n",
        "            label_index, confidence = model.predict(roi)\n",
        "\n",
        "            label = names[label_index] if label_index < len(names) and confidence < 5000 else \"Unknown\"\n",
        "            cv2.putText(img, f\"{label}, {confidence:.2f}\", (x, y - 10), cv2.FONT_HERSHEY_SIMPLEX, 0.8, (255, 0, 0), 2)\n",
        "            cv2.rectangle(img, (x, y), (x + w, y + h), (255, 0, 0), 2)\n",
        "\n",
        "        cv2.imshow(\"Face Recognition\", img)\n",
        "        if cv2.waitKey(1) & 0xFF == ord(\"q\"):\n",
        "            break\n",
        "\n",
        "    camera.release()\n",
        "    cv2.destroyAllWindows()\n",
        "\n",
        "if __name__ == \"__main__\":\n",
        "    face_rec()\n"
      ]
    },
    {
      "cell_type": "markdown",
      "metadata": {},
      "source": [
        "## LBPHFaceRecognizer"
      ]
    },
    {
      "cell_type": "code",
      "execution_count": null,
      "metadata": {},
      "outputs": [],
      "source": [
        "def read_images(path, sz=(200, 200)):\n",
        "    \"\"\"Reads images from dataset and resizes them.\"\"\"\n",
        "    X, y, label = [], [], 0\n",
        "    for subdir in filter(lambda d: os.path.isdir(os.path.join(path, d)), os.listdir(path)):\n",
        "        for filename in os.listdir(os.path.join(path, subdir)):\n",
        "            img = cv2.imread(os.path.join(path, subdir, filename), cv2.IMREAD_GRAYSCALE)\n",
        "            if img is not None:\n",
        "                X.append(cv2.resize(img, sz))\n",
        "                y.append(label)\n",
        "        label += 1\n",
        "    return np.array(X, dtype=np.uint8), np.array(y, dtype=np.int32)\n",
        "\n",
        "def face_rec():\n",
        "    names, dataset_path = ['Joms', 'Moms'], \"dataset\"\n",
        "    if not os.path.exists(dataset_path):\n",
        "        sys.exit(f\"Error: Dataset path '{dataset_path}' not found!\")\n",
        "\n",
        "    X, y = read_images(dataset_path)\n",
        "    if X.size == 0:\n",
        "        sys.exit(\"Error: No images found in dataset.\")\n",
        "\n",
        "    try:\n",
        "        model = cv2.face.LBPHFaceRecognizer_create()\n",
        "        model.train(X, y)\n",
        "    except AttributeError:\n",
        "        sys.exit(\"Error: OpenCV does not support face recognition. Install 'opencv-contrib-python'.\")\n",
        "\n",
        "    face_cascade = cv2.CascadeClassifier(r\"C:\\Users\\John Rome Belocora\\Downloads\\haarcascade_frontalface_default.xml\")\n",
        "    camera = cv2.VideoCapture(0)\n",
        "    if not camera.isOpened():\n",
        "        sys.exit(\"Error: Could not access webcam.\")\n",
        "\n",
        "    while True:\n",
        "        ret, img = camera.read()\n",
        "        if not ret:\n",
        "            break\n",
        "\n",
        "        gray = cv2.cvtColor(img, cv2.COLOR_BGR2GRAY)\n",
        "        for (x, y, w, h) in face_cascade.detectMultiScale(gray, 1.3, 5):\n",
        "            roi = cv2.resize(gray[y:y+h, x:x+w], (200, 200))\n",
        "            label_index, confidence = model.predict(roi)\n",
        "\n",
        "            label = names[label_index] if label_index < len(names) and confidence < 5000 else \"Unknown\"\n",
        "            cv2.putText(img, f\"{label}, {confidence:.2f}\", (x, y - 10), cv2.FONT_HERSHEY_SIMPLEX, 0.8, (255, 0, 0), 2)\n",
        "            cv2.rectangle(img, (x, y), (x + w, y + h), (255, 0, 0), 2)\n",
        "\n",
        "        cv2.imshow(\"Face Recognition\", img)\n",
        "        if cv2.waitKey(1) & 0xFF == ord(\"q\"):\n",
        "            break\n",
        "\n",
        "    camera.release()\n",
        "    cv2.destroyAllWindows()\n",
        "\n",
        "if __name__ == \"__main__\":\n",
        "    face_rec()\n"
      ]
    },
    {
      "cell_type": "markdown",
      "metadata": {
        "id": "Mkyd0KjtGl79"
      },
      "source": [
        "## 4. Supplementary Activity"
      ]
    },
    {
      "cell_type": "markdown",
      "metadata": {
        "id": "Zgo4nuQt506X"
      },
      "source": [
        "Your accomplisment of the tasks below contribute to the achievement of ILO1, ILO2, and ILO3 for this module.\n",
        "\n",
        "---\n",
        "\n",
        "Tasks:\n",
        "1. Create a new dataset for testing, this dataset must include the following:\n",
        "  - The same person/s that the model has to recognize.\n",
        "  - Different person/s that the model should not recognize.\n",
        "2. For each model, perform 20 tests. Document the testing performed and provide observations.\n",
        "3. Conclude on the performed tests by providing your evaluation of the performance of the models."
      ]
    },
    {
      "cell_type": "code",
      "execution_count": null,
      "metadata": {},
      "outputs": [
        {
          "ename": "",
          "evalue": "",
          "output_type": "error",
          "traceback": [
            "\u001b[1;31mThe Kernel crashed while executing code in the current cell or a previous cell. \n",
            "\u001b[1;31mPlease review the code in the cell(s) to identify a possible cause of the failure. \n",
            "\u001b[1;31mClick <a href='https://aka.ms/vscodeJupyterKernelCrash'>here</a> for more info. \n",
            "\u001b[1;31mView Jupyter <a href='command:jupyter.viewOutput'>log</a> for further details."
          ]
        }
      ],
      "source": [
        "import cv2\n",
        "import numpy as np\n",
        "import os\n",
        "import sys\n",
        "import time\n",
        "\n",
        "def read_images(path, sz=(200, 200)):\n",
        "    \"\"\"Reads images from dataset and resizes them.\"\"\"\n",
        "    X, y, label = [], [], 0\n",
        "    for subdir in filter(lambda d: os.path.isdir(os.path.join(path, d)), os.listdir(path)):\n",
        "        for filename in os.listdir(os.path.join(path, subdir)):\n",
        "            img = cv2.imread(os.path.join(path, subdir, filename), cv2.IMREAD_GRAYSCALE)\n",
        "            if img is not None:\n",
        "                X.append(cv2.resize(img, sz))\n",
        "                y.append(label)\n",
        "        label += 1\n",
        "    return np.array(X, dtype=np.uint8), np.array(y, dtype=np.int32)\n",
        "\n",
        "def face_rec():\n",
        "    names, dataset_path = ['Joms', 'Moms'], \"dataset\"\n",
        "    if not os.path.exists(dataset_path):\n",
        "        sys.exit(f\"Error: Dataset path '{dataset_path}' not found!\")\n",
        "\n",
        "    X, y = read_images(dataset_path)\n",
        "    if X.size == 0:\n",
        "        sys.exit(\"Error: No images found in dataset.\")\n",
        "\n",
        "    try:\n",
        "        model = cv2.face.EigenFaceRecognizer_create()\n",
        "        model.train(X, y)\n",
        "    except AttributeError:\n",
        "        sys.exit(\"Error: OpenCV does not support face recognition. Install 'opencv-contrib-python'.\")\n",
        "\n",
        "    face_cascade = cv2.CascadeClassifier(r\"C:\\Users\\John Rome Belocora\\Downloads\\haarcascade_frontalface_default.xml\")\n",
        "    camera = cv2.VideoCapture(0)\n",
        "    if not camera.isOpened():\n",
        "        sys.exit(\"Error: Could not access webcam.\")\n",
        "\n",
        "    test_count = 0 \n",
        "    results = [] \n",
        "\n",
        "    while test_count < 20:\n",
        "        ret, img = camera.read()\n",
        "        if not ret:\n",
        "            break\n",
        "\n",
        "        gray = cv2.cvtColor(img, cv2.COLOR_BGR2GRAY)\n",
        "        faces = face_cascade.detectMultiScale(gray, 1.3, 5)\n",
        "\n",
        "        for (x, y, w, h) in faces:\n",
        "            roi = cv2.resize(gray[y:y+h, x:x+w], (200, 200))\n",
        "            label_index, confidence = model.predict(roi)\n",
        "\n",
        "            label = names[label_index] if label_index < len(names) and confidence < 5000 else \"Unknown\"\n",
        "            timestamp = time.strftime(\"%Y-%m-%d %H:%M:%S\")\n",
        "\n",
        "            # Store result\n",
        "            results.append(f\"Test {test_count+1}: {label}, Confidence: {confidence:.2f}, Time: {timestamp}\")\n",
        "            print(results[-1])\n",
        "\n",
        "            # Display on screen\n",
        "            cv2.putText(img, f\"{label}, {confidence:.2f}\", (x, y - 10), cv2.FONT_HERSHEY_SIMPLEX, 0.8, (255, 0, 0), 2)\n",
        "            cv2.rectangle(img, (x, y), (x + w, y + h), (255, 0, 0), 2)\n",
        "\n",
        "        cv2.imshow(\"Face Recognition\", img)\n",
        "        test_count += 1\n",
        "\n",
        "        # Wait for 1 minute before the next test\n",
        "        if cv2.waitKey(1) & 0xFF == ord(\"q\"):\n",
        "            break\n",
        "        time.sleep(60)\n",
        "\n",
        "    # Save results to a file\n",
        "    with open(\"test_results.txt\", \"w\") as f:\n",
        "        f.write(\"\\n\".join(results))\n",
        "\n",
        "    print(\"Testing completed. Results saved in 'test_results.txt'.\")\n",
        "\n",
        "    camera.release()\n",
        "    cv2.destroyAllWindows()\n",
        "\n",
        "if __name__ == \"__main__\":\n",
        "    face_rec()"
      ]
    },
    {
      "cell_type": "markdown",
      "metadata": {
        "id": "KQspxP0IGoO1"
      },
      "source": [
        "## 5. Summary, Conclusions and Lessons Learned"
      ]
    },
    {
      "cell_type": "markdown",
      "metadata": {
        "id": "EqlVIPSqolAC"
      },
      "source": [
        "<hr/>\n",
        "\n",
        "***Proprietary Clause***\n",
        "\n",
        "*Property of the Technological Institute of the Philippines (T.I.P.). No part of the materials made and uploaded in this learning management system by T.I.P. may be copied, photographed, printed, reproduced, shared, transmitted, translated, or reduced to any electronic medium or machine-readable form, in whole or in part, without the prior consent of T.I.P.*"
      ]
    }
  ],
  "metadata": {
    "colab": {
      "collapsed_sections": [
        "ElMxAUPJGYLw",
        "Mkyd0KjtGl79",
        "KQspxP0IGoO1"
      ],
      "provenance": []
    },
    "kernelspec": {
      "display_name": "Python 3",
      "name": "python3"
    },
    "language_info": {
      "codemirror_mode": {
        "name": "ipython",
        "version": 3
      },
      "file_extension": ".py",
      "mimetype": "text/x-python",
      "name": "python",
      "nbconvert_exporter": "python",
      "pygments_lexer": "ipython3",
      "version": "3.11.9"
    }
  },
  "nbformat": 4,
  "nbformat_minor": 0
}
